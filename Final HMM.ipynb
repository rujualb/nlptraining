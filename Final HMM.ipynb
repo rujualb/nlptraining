{
 "cells": [
  {
   "cell_type": "code",
   "execution_count": 1,
   "metadata": {},
   "outputs": [],
   "source": [
    "import numpy as np"
   ]
  },
  {
   "cell_type": "code",
   "execution_count": 2,
   "metadata": {},
   "outputs": [],
   "source": [
    "class HMM(object):\n",
    "    def __init__(self, A, B): #A,B are the transition and emission matrices which will be represented using nested dicts.\n",
    "        self.A = A\n",
    "        self.B = B\n",
    "        self.states = list(A.keys()) #Gets the state space\n",
    "        self.outputs = list(B.keys()) #redundant\n",
    "        \n",
    "    def next_state(self,current_state): #takes in the state at t-1, and outputs a state using transition probabilities at time t\n",
    "        return np.random.choice(self.states, p = [self.A[current_state][j] for j in self.states])\n",
    "    \n",
    "    def next_output(self,current_state): #produces an output at time t, given the state at time t\n",
    "        getkey = self.B[current_state]\n",
    "        out = list(getkey.keys())\n",
    "        return np.random.choice(out, p = [self.B[current_state][j] for j in out])\n",
    "    \n",
    "    def generate_states(self, current_state, n = 10): #generate a sequence of future outputs of the HMM, given an initial state\n",
    "        curr = current_state\n",
    "        future_outputs = []\n",
    "        for i in range(n):\n",
    "            next_state = self.next_state(curr)\n",
    "            #print(next_state) \"hides the state outputs, can show these for pedagogy\"\n",
    "            future_outputs.append(self.next_output(curr)) #first output is always based on the initial state\n",
    "            curr = next_state #update state\n",
    "        return future_outputs\n",
    "        "
   ]
  },
  {
   "cell_type": "code",
   "execution_count": 3,
   "metadata": {},
   "outputs": [],
   "source": [
    "#potential example with a chicken laying eggs based on the weather\n",
    "a = {'Sunny': {'Sunny' : .6, 'Cloudy' : .3, 'Rainy' : .1}, 'Cloudy' : {'Sunny' : .3, 'Cloudy' : .4, 'Rainy' : .3}, 'Rainy':\n",
    "     {'Sunny' : .2, 'Cloudy' : .4, 'Rainy': .4}}\n",
    "b = {'Sunny':{'Egg' :.8, 'Nothing':.2},'Cloudy':{'Egg' :.55, 'Nothing':.45},'Rainy':{'Egg' :.2, 'Nothing':.8}}"
   ]
  },
  {
   "cell_type": "code",
   "execution_count": 4,
   "metadata": {},
   "outputs": [],
   "source": [
    "chicken_hidd = HMM(A=a,B=b)"
   ]
  },
  {
   "cell_type": "code",
   "execution_count": 5,
   "metadata": {},
   "outputs": [],
   "source": [
    "#dice example\n",
    "dice_transition = {'Fair Dice' : {'Fair Dice' : .6, 'Loaded Dice': .4}, 'Loaded Dice' : { 'Fair Dice' : .6 ,'Loaded Dice' : .4}}\n",
    "dice_values = {'Fair Dice' : {'1': 1/6, '2': 1/6, '3': 1/6, '4': 1/6, '5': 1/6, '6': 1/6}, 'Loaded Dice' : {'1' : .05,\n",
    "                                                                                                           '2' : .05,\n",
    "                                                                                                           '3' : .05,\n",
    "                                                                                                           '4' : .05,\n",
    "                                                                                                           '5' : .05,\n",
    "                                                                                                           '6' : .75}}\n",
    "dice_states = ('Fair Dice', 'Loaded Dice')\n",
    "dice_start = {'Fair Dice': 0.99, 'Loaded Dice': 0.01}"
   ]
  },
  {
   "cell_type": "code",
   "execution_count": 6,
   "metadata": {},
   "outputs": [],
   "source": [
    "dice_HMM = HMM(A = dice_transition, B = dice_values)"
   ]
  },
  {
   "cell_type": "code",
   "execution_count": 7,
   "metadata": {},
   "outputs": [],
   "source": [
    "obs = dice_HMM.generate_states(current_state = 'Fair Dice', n = 15)"
   ]
  },
  {
   "cell_type": "code",
   "execution_count": 8,
   "metadata": {},
   "outputs": [
    {
     "name": "stdout",
     "output_type": "stream",
     "text": [
      "['4', '3', '6', '4', '5', '6', '4', '6', '5', '6', '3', '2', '5', '6', '3']\n"
     ]
    }
   ],
   "source": [
    "print(obs)"
   ]
  },
  {
   "cell_type": "code",
   "execution_count": 9,
   "metadata": {},
   "outputs": [],
   "source": [
    "#code for viterbi, uses the pseudo code from wikipedia : https://en.wikipedia.org/wiki/Viterbi_algorithm\n",
    "def vit(obs,init,A,B): # parameters are the observation sequence, matrices A, B as defined earlier, and an intial state probability matrix\n",
    "    states = list(A.keys()) # gets the names of states\n",
    "    T = len(obs)\n",
    "    viti = [{} for _ in range(T)] \n",
    "    backpointer = [{} for _ in range(T)]\n",
    "    supremum = 0\n",
    "    sup_state = None\n",
    "    \n",
    "    #initialize a max, and the corresponding state\n",
    "    for s in states:\n",
    "        viti[0][s] = init[s] * B[s][obs[0]]\n",
    "        backpointer[0][s] = None\n",
    "        \n",
    "        if(viti[0][s] > supremum):\n",
    "            supremum = viti[0][s]\n",
    "            sup_state = s\n",
    "\n",
    "    #recursion step    \n",
    "    for t in range (1,T):\n",
    "        for s in states:\n",
    "            viti[t][s] = max(viti[t-1][prev]*A[prev][s]*B[s][obs[t]] for prev in states)\n",
    "            backpointer[t][s] = states[np.argmax([viti[t-1][prev]*A[prev][s]*B[s][obs[t]] for prev in states])]\\\n",
    "       \n",
    "     \n",
    "    #backtrack        \n",
    "    out =[] #output sequence of states\n",
    "    out.append(states[np.argmax([viti[T][k]] for k in states)]) \n",
    "    previous = states[np.argmax([viti[T][k]] for k in states)]\n",
    "    \n",
    "    \n",
    "    for j in range(len(viti)-2,-1,-1):\n",
    "        out.insert(0, backpointer[j + 1][previous])\n",
    "        previous = backpointer[j + 1][previous]\n",
    "    return out"
   ]
  },
  {
   "cell_type": "code",
   "execution_count": 11,
   "metadata": {},
   "outputs": [
    {
     "data": {
      "text/plain": [
       "['Fair Dice',\n",
       " 'Fair Dice',\n",
       " 'Loaded Dice',\n",
       " 'Fair Dice',\n",
       " 'Fair Dice',\n",
       " 'Loaded Dice',\n",
       " 'Fair Dice',\n",
       " 'Loaded Dice',\n",
       " 'Fair Dice',\n",
       " 'Loaded Dice',\n",
       " 'Fair Dice',\n",
       " 'Fair Dice',\n",
       " 'Fair Dice',\n",
       " 'Loaded Dice',\n",
       " 'Fair Dice']"
      ]
     },
     "execution_count": 11,
     "metadata": {},
     "output_type": "execute_result"
    }
   ],
   "source": [
    "vit(obs = obs, init= dice_start, A = dice_transition, B = dice_values)"
   ]
  },
  {
   "cell_type": "code",
   "execution_count": null,
   "metadata": {},
   "outputs": [],
   "source": []
  }
 ],
 "metadata": {
  "kernelspec": {
   "display_name": "Python 3",
   "language": "python",
   "name": "python3"
  },
  "language_info": {
   "codemirror_mode": {
    "name": "ipython",
    "version": 3
   },
   "file_extension": ".py",
   "mimetype": "text/x-python",
   "name": "python",
   "nbconvert_exporter": "python",
   "pygments_lexer": "ipython3",
   "version": "3.7.1"
  }
 },
 "nbformat": 4,
 "nbformat_minor": 2
}
